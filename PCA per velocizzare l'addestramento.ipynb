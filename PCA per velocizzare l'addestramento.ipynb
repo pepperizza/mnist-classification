{
 "cells": [
  {
   "cell_type": "code",
   "execution_count": 21,
   "metadata": {},
   "outputs": [],
   "source": [
    "import numpy as np\n",
    "import tensorflow as tf\n",
    "from tensorflow.keras.datasets import mnist\n",
    "from sklearn.model_selection import train_test_split\n",
    "from sklearn.preprocessing import MinMaxScaler\n",
    "from sklearn.linear_model import LogisticRegression\n",
    "from sklearn.metrics import accuracy_score, log_loss\n",
    "from sklearn.decomposition import PCA\n",
    "import matplotlib.pyplot as plt\n",
    "import time"
   ]
  },
  {
   "cell_type": "code",
   "execution_count": 10,
   "metadata": {},
   "outputs": [
    {
     "name": "stdout",
     "output_type": "stream",
     "text": [
      "Numero totale di proprietà: 784\n",
      "Esempi di training: 60000\n",
      "Esempi di test: 10000\n"
     ]
    }
   ],
   "source": [
    "(X_train, Y_train), (X_test, Y_test) = mnist.load_data()\n",
    "X_train = X_train.reshape(X_train.shape[0], 784)\n",
    "X_test = X_test.reshape(X_test.shape[0], 784)\n",
    "print(\"Numero totale di proprietà: \"+str(X_train.shape[1]))\n",
    "print(\"Esempi di training: \"+str(X_train.shape[0]))\n",
    "print(\"Esempi di test: \"+str(X_test.shape[0]))"
   ]
  },
  {
   "cell_type": "code",
   "execution_count": 11,
   "metadata": {},
   "outputs": [
    {
     "data": {
      "text/plain": [
       "<matplotlib.image.AxesImage at 0x159baef90>"
      ]
     },
     "execution_count": 11,
     "metadata": {},
     "output_type": "execute_result"
    },
    {
     "data": {
      "image/png": "[encoded data removed]",
      "text/plain": [
       "<Figure size 640x480 with 1 Axes>"
      ]
     },
     "metadata": {},
     "output_type": "display_data"
    }
   ],
   "source": [
    "plt.imshow(X_test[0].reshape([28,28]), cmap='gray')"
   ]
  },
  {
   "cell_type": "code",
   "execution_count": 12,
   "metadata": {},
   "outputs": [
    {
     "data": {
      "text/plain": [
       "7"
      ]
     },
     "execution_count": 12,
     "metadata": {},
     "output_type": "execute_result"
    }
   ],
   "source": [
    "Y_test[0]"
   ]
  },
  {
   "cell_type": "markdown",
   "metadata": {},
   "source": [
    "Eseguo la normalizzazione, FONDAMENTALE per poi applicare PCA"
   ]
  },
  {
   "cell_type": "code",
   "execution_count": 13,
   "metadata": {},
   "outputs": [],
   "source": [
    "mms = MinMaxScaler()\n",
    "X_train = mms.fit_transform(X_train)\n",
    "X_test = mms.transform(X_test)"
   ]
  },
  {
   "cell_type": "markdown",
   "metadata": {},
   "source": [
    "Eseguo una regressione logistica"
   ]
  },
  {
   "cell_type": "code",
   "execution_count": 17,
   "metadata": {},
   "outputs": [
    {
     "data": {
      "text/plain": [
       "36.91154217720032"
      ]
     },
     "execution_count": 17,
     "metadata": {},
     "output_type": "execute_result"
    }
   ],
   "source": [
    "lr = LogisticRegression(max_iter=1000)\n",
    "start_time = time.time()                    #voglio contare quanto ci mette l'addestramento \n",
    "lr.fit(X_train, Y_train)\n",
    "end_time = time.time()\n",
    "end_time-start_time"
   ]
  },
  {
   "cell_type": "markdown",
   "metadata": {},
   "source": [
    "Valuto le metriche di accuracy e log loss"
   ]
  },
  {
   "cell_type": "code",
   "execution_count": 20,
   "metadata": {},
   "outputs": [
    {
     "name": "stdout",
     "output_type": "stream",
     "text": [
      "0.9388166666666666 0.9262\n",
      "0.22277931236251663 0.27198567324777584\n"
     ]
    }
   ],
   "source": [
    "acc_train = accuracy_score(Y_train, lr.predict(X_train))\n",
    "acc_test = accuracy_score(Y_test, lr.predict(X_test))\n",
    "\n",
    "loss_train = log_loss(Y_train, lr.predict_proba(X_train))\n",
    "loss_test = log_loss(Y_test, lr.predict_proba(X_test))\n",
    "print(acc_train, acc_test)\n",
    "print(loss_train, loss_test)"
   ]
  },
  {
   "cell_type": "markdown",
   "metadata": {},
   "source": [
    "Utilizziamo la PCA per ridurre la dimensionalità senza distruggere le metriche"
   ]
  },
  {
   "cell_type": "code",
   "execution_count": 23,
   "metadata": {},
   "outputs": [
    {
     "data": {
      "text/plain": [
       "(60000, 154)"
      ]
     },
     "execution_count": 23,
     "metadata": {},
     "output_type": "execute_result"
    }
   ],
   "source": [
    "pca = PCA(0.95)             #non passo il numero di componenti ma in quanta varianza voglio in percentuale\n",
    "X_train_pca = pca.fit_transform(X_train)\n",
    "X_test_pca = pca.transform(X_test)\n",
    "X_train_pca.shape                       #le proprietà adesso sono 154, al posto di 784, rinunciando al 5% di varianza totale"
   ]
  },
  {
   "cell_type": "markdown",
   "metadata": {},
   "source": [
    "Riaddestro il modello di regressione logistica"
   ]
  },
  {
   "cell_type": "code",
   "execution_count": 24,
   "metadata": {},
   "outputs": [
    {
     "data": {
      "text/plain": [
       "6.217350721359253"
      ]
     },
     "execution_count": 24,
     "metadata": {},
     "output_type": "execute_result"
    }
   ],
   "source": [
    "lr = LogisticRegression(max_iter=1000)\n",
    "start_time = time.time()                    #voglio contare quanto ci mette l'addestramento \n",
    "lr.fit(X_train_pca, Y_train)\n",
    "end_time = time.time()\n",
    "end_time-start_time"
   ]
  },
  {
   "cell_type": "code",
   "execution_count": 25,
   "metadata": {},
   "outputs": [
    {
     "name": "stdout",
     "output_type": "stream",
     "text": [
      "0.9271333333333334 0.9233\n",
      "0.26246972512896305 0.2704786178548263\n"
     ]
    }
   ],
   "source": [
    "acc_train_pca = accuracy_score(Y_train, lr.predict(X_train_pca))\n",
    "acc_test_pca = accuracy_score(Y_test, lr.predict(X_test_pca))\n",
    "\n",
    "loss_train_pca = log_loss(Y_train, lr.predict_proba(X_train_pca))\n",
    "loss_test_pca = log_loss(Y_test, lr.predict_proba(X_test_pca))\n",
    "print(acc_train_pca, acc_test_pca)\n",
    "print(loss_train_pca, loss_test_pca)                                #Buoni risultati (peggiorati di poco)"
   ]
  },
  {
   "cell_type": "markdown",
   "metadata": {},
   "source": [
    "Vedo cosa succede riducendo la varianza al 90%"
   ]
  },
  {
   "cell_type": "code",
   "execution_count": 26,
   "metadata": {},
   "outputs": [
    {
     "name": "stdout",
     "output_type": "stream",
     "text": [
      "0.9203 0.9196\n",
      "0.28422387869861687 0.28261060219822426\n"
     ]
    }
   ],
   "source": [
    "pca = PCA(0.90)             #non passo il numero di componenti ma in quanta varianza voglio in percentuale\n",
    "X_train_pca = pca.fit_transform(X_train)\n",
    "X_test_pca = pca.transform(X_test)\n",
    "print(X_train_pca.shape)\n",
    "\n",
    "lr = LogisticRegression(max_iter=1000)\n",
    "start_time = time.time()                    #voglio contare quanto ci mette l'addestramento \n",
    "lr.fit(X_train_pca, Y_train)\n",
    "end_time = time.time()\n",
    "print(end_time-start_time)\n",
    "\n",
    "acc_train_pca = accuracy_score(Y_train, lr.predict(X_train_pca))\n",
    "acc_test_pca = accuracy_score(Y_test, lr.predict(X_test_pca))\n",
    "\n",
    "loss_train_pca = log_loss(Y_train, lr.predict_proba(X_train_pca))\n",
    "loss_test_pca = log_loss(Y_test, lr.predict_proba(X_test_pca))\n",
    "print(acc_train_pca, acc_test_pca)\n",
    "print(loss_train_pca, loss_test_pca)                                #guadagno in tempi e perdo poche metriche"
   ]
  },
  {
   "cell_type": "markdown",
   "metadata": {},
   "source": [
    "Riprovo con un algoritmo di ottimizzazione lbfgs"
   ]
  },
  {
   "cell_type": "code",
   "execution_count": 27,
   "metadata": {},
   "outputs": [
    {
     "name": "stdout",
     "output_type": "stream",
     "text": [
      "(60000, 87)\n",
      "0.9203 0.9196\n",
      "0.28422387869861687 0.28261060219822426\n"
     ]
    }
   ],
   "source": [
    "pca = PCA(0.90)             #non passo il numero di componenti ma in quanta varianza voglio in percentuale\n",
    "X_train_pca = pca.fit_transform(X_train)\n",
    "X_test_pca = pca.transform(X_test)\n",
    "print(X_train_pca.shape)\n",
    "\n",
    "lr = LogisticRegression(max_iter=1000, solver='lbfgs')\n",
    "start_time = time.time()                    #voglio contare quanto ci mette l'addestramento \n",
    "lr.fit(X_train_pca, Y_train)\n",
    "end_time = time.time()\n",
    "end_time-start_time\n",
    "\n",
    "acc_train_pca = accuracy_score(Y_train, lr.predict(X_train_pca))\n",
    "acc_test_pca = accuracy_score(Y_test, lr.predict(X_test_pca))\n",
    "\n",
    "loss_train_pca = log_loss(Y_train, lr.predict_proba(X_train_pca))\n",
    "loss_test_pca = log_loss(Y_test, lr.predict_proba(X_test_pca))\n",
    "print(acc_train_pca, acc_test_pca)\n",
    "print(loss_train_pca, loss_test_pca)                                #ci sta di più con le stesse metriche"
   ]
  }
 ],
 "metadata": {
  "kernelspec": {
   "display_name": "base",
   "language": "python",
   "name": "python3"
  },
  "language_info": {
   "codemirror_mode": {
    "name": "ipython",
    "version": 3
   },
   "file_extension": ".py",
   "mimetype": "text/x-python",
   "name": "python",
   "nbconvert_exporter": "python",
   "pygments_lexer": "ipython3",
   "version": "3.12.2"
  }
 },
 "nbformat": 4,
 "nbformat_minor": 2
}
